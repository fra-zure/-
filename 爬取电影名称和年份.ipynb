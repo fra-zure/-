{
 "cells": [
  {
   "cell_type": "code",
   "execution_count": 5,
   "metadata": {},
   "outputs": [],
   "source": [
    "import requests\n",
    "from lxml import etree\n",
    "import pandas as pd\n",
    "\n",
    "name_list = []\n",
    "date_list = []\n",
    "for page in range(0,70,10):\n",
    "    url = 'https://movie.douban.com/celebrity/1054406/movies?start='+str(page)+'&format=pic&sortby=time&'\n",
    "    headers={'User-Agent': 'Mozilla/5.0 (Windows NT 10.0; Win64; x64) AppleWebKit/537.36 (KHTML, like Gecko) Chrome/79.0.3945.88 Safari/537.36'}\n",
    "    #给定 url 并用 requests.get() 方法来获取页面的text，用 etree.HTML() 来解析下载的页面数据“data”。\n",
    "    data = requests.get(url,headers=headers).text\n",
    "    s=etree.HTML(data)\n",
    "    #获取元素的Xpath信息并获得文本\n",
    "    names=s.xpath('//*[@id=\"content\"]/div/div[1]/div[2]/ul/li/dl/dd/h6/a/text()')\n",
    "    dates=s.xpath('//*[@id=\"content\"]/div/div[1]/div[2]/ul/li/dl/dd/h6/span[1]/text()')\n",
    "    for name in names:\n",
    "        name_list.append(name)\n",
    "    for date in dates:\n",
    "        date_list.append(date)\n",
    "\n",
    "#print(name_list)\n",
    "#print(date_list)\n",
    "\n",
    "info = {'name' : name_list, 'date' : date_list}\n",
    "data = pd.DataFrame(info, columns = ['name','date'])\n",
    "data.to_csv('/Users/alica/Desktop/name.csv')"
   ]
  },
  {
   "cell_type": "code",
   "execution_count": null,
   "metadata": {},
   "outputs": [],
   "source": []
  }
 ],
 "metadata": {
  "kernelspec": {
   "display_name": "Python 3",
   "language": "python",
   "name": "python3"
  },
  "language_info": {
   "codemirror_mode": {
    "name": "ipython",
    "version": 3
   },
   "file_extension": ".py",
   "mimetype": "text/x-python",
   "name": "python",
   "nbconvert_exporter": "python",
   "pygments_lexer": "ipython3",
   "version": "3.7.6"
  }
 },
 "nbformat": 4,
 "nbformat_minor": 4
}
