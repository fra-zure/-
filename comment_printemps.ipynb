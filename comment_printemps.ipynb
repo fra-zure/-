{
 "cells": [
  {
   "cell_type": "code",
   "execution_count": 19,
   "metadata": {},
   "outputs": [],
   "source": [
    "# 爬取电影短评\n",
    "\n",
    "# 春天的故事\n",
    "\n",
    "import random\n",
    "import requests\n",
    "import pandas as pd\n",
    "from bs4 import BeautifulSoup as bs\n",
    "from fake_useragent import UserAgent\n",
    "\n",
    "#使用多个UA反爬\n",
    "ua = UserAgent()\n",
    "headers = {'User-Agent':'random.choice(ua)'} # 随机获取UA抓取数据并判断状态码\n",
    "cookies = {'cookies':'__utmv=30149280.8792; __gads=ID=55eb1b8a392ebf6c:T=1559365784:S=ALNI_MZluPOW1IgPyQStqN5TLs1IUwuocg; ll=\"118289\"; bid=s8tT2cbR5Bc; dbcl2=\"87926913:5h3V9fq+/6k\"; __yadk_uid=5dnTE68SzfD23buir0RGRhtMgi5DDAtp; push_noty_num=0; push_doumail_num=0; _vwo_uuid_v2=D1ADBE0F959E6C36ED594219E16CF1B0A|f639e74b43922f650b1da06165cc5c9a; __utmz=30149280.1592818367.7.3.utmcsr=douban.com|utmccn=(referral)|utmcmd=referral|utmcct=/; ck=CJ26; __utmc=30149280; ap_v=0,6.0; __utma=30149280.883736133.1559315625.1593333835.1593343297.18; douban-profile-remind=1; _pk_ref.100001.8cb4=%5B%22%22%2C%22%22%2C1593344685%2C%22https%3A%2F%2Fmovie.douban.com%2Fsubject%2F1293632%2Fcomments%3Fstart%3D20%26limit%3D20%26sort%3Dnew_score%26status%3DP%22%5D; _pk_id.100001.8cb4=e81e66341b7a6dee.1559315604.5.1593344685.1592812497.; _pk_ses.100001.8cb4=*; __utmt=1; __utmb=30149280.2.10.1593343297'}\n",
    "\n",
    "comment_list = []\n",
    "\n",
    "for page in range (0, 500, 20):\n",
    "    url = 'https://movie.douban.com/subject/1293632/comments?start='+str(page)+'&limit=20&sort=new_score&status=P'#《春天的故事》短评网页\n",
    "    html_data = requests.get(url, cookies=cookies, headers=headers).text\n",
    "    soup = bs(html_data, 'html.parser') # 用BeautifulSoup进行爬虫\n",
    "    comment_div = soup.find_all('div', class_='comment-item')\n",
    "    for item in comment_div:\n",
    "        comment = item.find_all('span' , class_=\"short\")[0].string\n",
    "        comment_list.append(comment)\n",
    "\n",
    "#print(comment_list)\n",
    "\n",
    "info = {'comment' : comment_list}\n",
    "data = pd.DataFrame(info, columns = ['comment'])\n",
    "data.to_csv('/Users/alica/Desktop/printemps.csv')"
   ]
  },
  {
   "cell_type": "code",
   "execution_count": null,
   "metadata": {},
   "outputs": [],
   "source": []
  }
 ],
 "metadata": {
  "kernelspec": {
   "display_name": "Python 3",
   "language": "python",
   "name": "python3"
  },
  "language_info": {
   "codemirror_mode": {
    "name": "ipython",
    "version": 3
   },
   "file_extension": ".py",
   "mimetype": "text/x-python",
   "name": "python",
   "nbconvert_exporter": "python",
   "pygments_lexer": "ipython3",
   "version": "3.7.6"
  }
 },
 "nbformat": 4,
 "nbformat_minor": 4
}
